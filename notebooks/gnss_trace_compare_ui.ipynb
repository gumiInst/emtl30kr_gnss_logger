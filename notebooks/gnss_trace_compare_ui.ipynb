{
 "cells": [
  {
   "cell_type": "markdown",
   "id": "4c73a25b",
   "metadata": {},
   "source": [
    "# GNSS Trace Comparison Tool"
   ]
  },
  {
   "cell_type": "code",
   "execution_count": 1,
   "id": "cccd5768",
   "metadata": {},
   "outputs": [],
   "source": [
    "# --- Cell 1: Imports ---\n",
    "import pandas as pd\n",
    "from ipyfilechooser import FileChooser\n",
    "from IPython.display import display\n",
    "import ipywidgets as widgets"
   ]
  },
  {
   "cell_type": "code",
   "execution_count": null,
   "id": "5c066918",
   "metadata": {},
   "outputs": [
    {
     "data": {
      "application/vnd.jupyter.widget-view+json": {
       "model_id": "43bba7004d40498d886ef25aead21554",
       "version_major": 2,
       "version_minor": 0
      },
      "text/plain": [
       "HTML(value='**Step 1: Use the pickers below. They start in the current server directory.**')"
      ]
     },
     "metadata": {},
     "output_type": "display_data"
    },
    {
     "data": {
      "application/vnd.jupyter.widget-view+json": {
       "model_id": "48297fab36264dbaa672ef5392c41e5b",
       "version_major": 2,
       "version_minor": 0
      },
      "text/plain": [
       "FileChooser(path='C:\\Users\\nguye\\Documents\\GitHub\\emtl30kr_gnss_logger', filename='', title='Select Trace 1 CS…"
      ]
     },
     "metadata": {},
     "output_type": "display_data"
    },
    {
     "data": {
      "application/vnd.jupyter.widget-view+json": {
       "model_id": "2917d41ddd7c42bc88f2468fa5cfb459",
       "version_major": 2,
       "version_minor": 0
      },
      "text/plain": [
       "FileChooser(path='C:\\Users\\nguye\\Documents\\GitHub\\emtl30kr_gnss_logger', filename='', title='Select Trace 2 CS…"
      ]
     },
     "metadata": {},
     "output_type": "display_data"
    },
    {
     "data": {
      "application/vnd.jupyter.widget-view+json": {
       "model_id": "5f69e04ead3940d2859b0127a1d18db0",
       "version_major": 2,
       "version_minor": 0
      },
      "text/plain": [
       "Button(description='Load Selected CSV Files', style=ButtonStyle())"
      ]
     },
     "metadata": {},
     "output_type": "display_data"
    },
    {
     "data": {
      "application/vnd.jupyter.widget-view+json": {
       "model_id": "a224b25f4b664716969e2bd36263c395",
       "version_major": 2,
       "version_minor": 0
      },
      "text/plain": [
       "Output()"
      ]
     },
     "metadata": {},
     "output_type": "display_data"
    }
   ],
   "source": [
    "# --- Cell 2: File Selection UI ---\n",
    "chooser1 = FileChooser('..', title='Select Trace 1 CSV:')\n",
    "chooser1.filter_pattern = '*.csv'\n",
    "chooser1.show_only_dirs = False\n",
    "\n",
    "chooser2 = FileChooser('..', title='Select Trace 2 CSV:')\n",
    "chooser2.filter_pattern = '*.csv'\n",
    "chooser2.show_only_dirs = False\n",
    "\n",
    "load_button = widgets.Button(description=\"Load Selected CSV Files\")\n",
    "output = widgets.Output()\n",
    "\n",
    "def load_files(btn):\n",
    "    with output:\n",
    "        output.clear_output()\n",
    "        try:\n",
    "            if not chooser1.selected or not chooser2.selected:\n",
    "                print(\"❗ Please select BOTH CSV files before loading.\")\n",
    "                return\n",
    "            df1 = pd.read_csv(chooser1.selected)\n",
    "            df2 = pd.read_csv(chooser2.selected)\n",
    "            print(\"✅ CSV files loaded successfully! Showing first rows below:\")\n",
    "            display(df1.head())\n",
    "            display(df2.head())\n",
    "            # Save globally for later cells\n",
    "            globals()['gnss_trace_1_pd'] = df1\n",
    "            globals()['gnss_trace_2_pd'] = df2\n",
    "        except Exception as e:\n",
    "            print(\"Error loading files:\", e)\n",
    "\n",
    "load_button.on_click(load_files)\n",
    "\n",
    "display(widgets.HTML(\"**Step 1: Use the pickers below. They start in the current server directory.**\"))\n",
    "display(chooser1, chooser2, load_button, output)\n"
   ]
  },
  {
   "cell_type": "markdown",
   "id": "8dccd248",
   "metadata": {},
   "source": [
    "# Data Pre-processing\n"
   ]
  },
  {
   "cell_type": "code",
   "execution_count": 6,
   "id": "f4e59275",
   "metadata": {},
   "outputs": [
    {
     "name": "stdout",
     "output_type": "stream",
     "text": [
      "✅ Pre-processing completed.\n"
     ]
    },
    {
     "data": {
      "text/html": [
       "<div>\n",
       "<style scoped>\n",
       "    .dataframe tbody tr th:only-of-type {\n",
       "        vertical-align: middle;\n",
       "    }\n",
       "\n",
       "    .dataframe tbody tr th {\n",
       "        vertical-align: top;\n",
       "    }\n",
       "\n",
       "    .dataframe thead th {\n",
       "        text-align: right;\n",
       "    }\n",
       "</style>\n",
       "<table border=\"1\" class=\"dataframe\">\n",
       "  <thead>\n",
       "    <tr style=\"text-align: right;\">\n",
       "      <th></th>\n",
       "      <th>GNSSTime</th>\n",
       "      <th>Latitude</th>\n",
       "      <th>Longitude</th>\n",
       "      <th>FixType</th>\n",
       "    </tr>\n",
       "  </thead>\n",
       "  <tbody>\n",
       "    <tr>\n",
       "      <th>0</th>\n",
       "      <td>12:30:13.680000</td>\n",
       "      <td>36.742708</td>\n",
       "      <td>127.117057</td>\n",
       "      <td>fixed-rtk</td>\n",
       "    </tr>\n",
       "    <tr>\n",
       "      <th>1</th>\n",
       "      <td>12:30:13.710000</td>\n",
       "      <td>36.742708</td>\n",
       "      <td>127.117057</td>\n",
       "      <td>fixed-rtk</td>\n",
       "    </tr>\n",
       "    <tr>\n",
       "      <th>2</th>\n",
       "      <td>12:30:13.750000</td>\n",
       "      <td>36.742708</td>\n",
       "      <td>127.117057</td>\n",
       "      <td>fixed-rtk</td>\n",
       "    </tr>\n",
       "    <tr>\n",
       "      <th>3</th>\n",
       "      <td>12:30:13.780000</td>\n",
       "      <td>36.742708</td>\n",
       "      <td>127.117057</td>\n",
       "      <td>fixed-rtk</td>\n",
       "    </tr>\n",
       "    <tr>\n",
       "      <th>4</th>\n",
       "      <td>12:30:13.810000</td>\n",
       "      <td>36.742708</td>\n",
       "      <td>127.117057</td>\n",
       "      <td>fixed-rtk</td>\n",
       "    </tr>\n",
       "  </tbody>\n",
       "</table>\n",
       "</div>"
      ],
      "text/plain": [
       "          GNSSTime   Latitude   Longitude    FixType\n",
       "0  12:30:13.680000  36.742708  127.117057  fixed-rtk\n",
       "1  12:30:13.710000  36.742708  127.117057  fixed-rtk\n",
       "2  12:30:13.750000  36.742708  127.117057  fixed-rtk\n",
       "3  12:30:13.780000  36.742708  127.117057  fixed-rtk\n",
       "4  12:30:13.810000  36.742708  127.117057  fixed-rtk"
      ]
     },
     "metadata": {},
     "output_type": "display_data"
    },
    {
     "data": {
      "text/html": [
       "<div>\n",
       "<style scoped>\n",
       "    .dataframe tbody tr th:only-of-type {\n",
       "        vertical-align: middle;\n",
       "    }\n",
       "\n",
       "    .dataframe tbody tr th {\n",
       "        vertical-align: top;\n",
       "    }\n",
       "\n",
       "    .dataframe thead th {\n",
       "        text-align: right;\n",
       "    }\n",
       "</style>\n",
       "<table border=\"1\" class=\"dataframe\">\n",
       "  <thead>\n",
       "    <tr style=\"text-align: right;\">\n",
       "      <th></th>\n",
       "      <th>GNSSTime</th>\n",
       "      <th>Latitude</th>\n",
       "      <th>Longitude</th>\n",
       "      <th>FixType</th>\n",
       "    </tr>\n",
       "  </thead>\n",
       "  <tbody>\n",
       "    <tr>\n",
       "      <th>2</th>\n",
       "      <td>12:30:18.100000</td>\n",
       "      <td>36.742708</td>\n",
       "      <td>127.117057</td>\n",
       "      <td>fixed-rtk</td>\n",
       "    </tr>\n",
       "    <tr>\n",
       "      <th>9</th>\n",
       "      <td>12:30:18.130000</td>\n",
       "      <td>36.742708</td>\n",
       "      <td>127.117057</td>\n",
       "      <td>fixed-rtk</td>\n",
       "    </tr>\n",
       "    <tr>\n",
       "      <th>13</th>\n",
       "      <td>12:30:18.170000</td>\n",
       "      <td>36.742708</td>\n",
       "      <td>127.117057</td>\n",
       "      <td>fixed-rtk</td>\n",
       "    </tr>\n",
       "    <tr>\n",
       "      <th>17</th>\n",
       "      <td>12:30:18.200000</td>\n",
       "      <td>36.742708</td>\n",
       "      <td>127.117057</td>\n",
       "      <td>fixed-rtk</td>\n",
       "    </tr>\n",
       "    <tr>\n",
       "      <th>22</th>\n",
       "      <td>12:30:18.230000</td>\n",
       "      <td>36.742708</td>\n",
       "      <td>127.117057</td>\n",
       "      <td>fixed-rtk</td>\n",
       "    </tr>\n",
       "  </tbody>\n",
       "</table>\n",
       "</div>"
      ],
      "text/plain": [
       "           GNSSTime   Latitude   Longitude    FixType\n",
       "2   12:30:18.100000  36.742708  127.117057  fixed-rtk\n",
       "9   12:30:18.130000  36.742708  127.117057  fixed-rtk\n",
       "13  12:30:18.170000  36.742708  127.117057  fixed-rtk\n",
       "17  12:30:18.200000  36.742708  127.117057  fixed-rtk\n",
       "22  12:30:18.230000  36.742708  127.117057  fixed-rtk"
      ]
     },
     "metadata": {},
     "output_type": "display_data"
    }
   ],
   "source": [
    "# --- Cell 3: Data Pre-processing Guarded ---\n",
    "gnss_trace_1_pd = globals().get('gnss_trace_1_pd', None)\n",
    "gnss_trace_2_pd = globals().get('gnss_trace_2_pd', None)\n",
    "\n",
    "if gnss_trace_1_pd is None or gnss_trace_2_pd is None:\n",
    "    print(\"❗ Both CSV files must be loaded (Step 1) before preprocessing. Please go back and load the files.\")\n",
    "else:\n",
    "    # Filter for desired FixTypes\n",
    "    filtered_fix_types = [\n",
    "        'fixed-rtk',\n",
    "        'dead-reckoning',\n",
    "    ]\n",
    "\n",
    "    filtered_trace_1_pd = gnss_trace_1_pd[gnss_trace_1_pd['FixType'].isin(filtered_fix_types)]\n",
    "    filtered_trace_2_pd = gnss_trace_2_pd[gnss_trace_2_pd['FixType'].isin(filtered_fix_types)]\n",
    "\n",
    "    # Select columns\n",
    "    filtered_columns = ['GNSSTime', 'Latitude', 'Longitude', 'FixType']\n",
    "    filtered_trace_1_pd = filtered_trace_1_pd[filtered_columns]\n",
    "    filtered_trace_2_pd = filtered_trace_2_pd[filtered_columns]\n",
    "    \n",
    "    # Store in globals for later cells\n",
    "    globals()['filtered_trace_1_pd'] = filtered_trace_1_pd\n",
    "    globals()['filtered_trace_2_pd'] = filtered_trace_2_pd\n",
    "    print(\"✅ Pre-processing completed.\")\n",
    "    display(filtered_trace_1_pd.head())\n",
    "    display(filtered_trace_2_pd.head())\n"
   ]
  },
  {
   "cell_type": "code",
   "execution_count": 7,
   "id": "000e2118",
   "metadata": {},
   "outputs": [
    {
     "name": "stdout",
     "output_type": "stream",
     "text": [
      "✅ Time filtering complete. Start: 12:30:18.100000, End: 12:31:15.390000\n",
      "Trace 1 rows: 1142, Trace 2 rows: 1737\n"
     ]
    }
   ],
   "source": [
    "# --- Cell 4: Time Overlap Filtering Guarded ---\n",
    "filtered_trace_1_pd = globals().get('filtered_trace_1_pd', None)\n",
    "filtered_trace_2_pd = globals().get('filtered_trace_2_pd', None)\n",
    "\n",
    "if filtered_trace_1_pd is None or filtered_trace_2_pd is None:\n",
    "    print(\"❗ Pre-processing must be completed before time range adjustment. Please run the previous cell.\")\n",
    "elif filtered_trace_1_pd.empty or filtered_trace_2_pd.empty:\n",
    "    print(\"❗ One or both filtered trace DataFrames are empty. Check your fix type filter or data.\")\n",
    "else:\n",
    "    start_time = max(filtered_trace_1_pd['GNSSTime'].min(), filtered_trace_2_pd['GNSSTime'].min())\n",
    "    end_time = min(filtered_trace_1_pd['GNSSTime'].max(), filtered_trace_2_pd['GNSSTime'].max())\n",
    "    filtered_trace_1_pd = filtered_trace_1_pd[\n",
    "        (filtered_trace_1_pd['GNSSTime'] >= start_time) & (filtered_trace_1_pd['GNSSTime'] <= end_time)\n",
    "    ]\n",
    "    filtered_trace_2_pd = filtered_trace_2_pd[\n",
    "        (filtered_trace_2_pd['GNSSTime'] >= start_time) & (filtered_trace_2_pd['GNSSTime'] <= end_time)\n",
    "    ]\n",
    "    globals()['filtered_trace_1_pd'] = filtered_trace_1_pd\n",
    "    globals()['filtered_trace_2_pd'] = filtered_trace_2_pd\n",
    "    print(f\"✅ Time filtering complete. Start: {start_time}, End: {end_time}\")\n",
    "    print(f\"Trace 1 rows: {len(filtered_trace_1_pd)}, Trace 2 rows: {len(filtered_trace_2_pd)}\")\n"
   ]
  },
  {
   "cell_type": "markdown",
   "id": "d75f1747",
   "metadata": {},
   "source": [
    "# Visualize GNSS Traces on a Map"
   ]
  },
  {
   "cell_type": "code",
   "execution_count": null,
   "id": "8cd0b26b",
   "metadata": {},
   "outputs": [],
   "source": []
  },
  {
   "cell_type": "code",
   "execution_count": null,
   "id": "1db6372a",
   "metadata": {},
   "outputs": [],
   "source": [
    "# (Cell 5)\n",
    "import folium\n",
    "import numpy as np\n",
    "\n",
    "filtered_trace_1_pd = globals().get('filtered_trace_1_pd', None)\n",
    "filtered_trace_2_pd = globals().get('filtered_trace_2_pd', None)\n",
    "\n",
    "if filtered_trace_1_pd is None or filtered_trace_2_pd is None or filtered_trace_1_pd.empty or filtered_trace_2_pd.empty:\n",
    "    print(\"❗ Cannot plot. Please complete prior steps.\")\n",
    "else:\n",
    "    # Center map at average location\n",
    "    center_lat = np.mean(list(filtered_trace_1_pd['Latitude']) + list(filtered_trace_2_pd['Latitude']))\n",
    "    center_lon = np.mean(list(filtered_trace_1_pd['Longitude']) + list(filtered_trace_2_pd['Longitude']))\n",
    "\n",
    "    m = folium.Map(location=[center_lat, center_lon], zoom_start=13)\n",
    "\n",
    "    # Trace 1\n",
    "    folium.PolyLine(\n",
    "        list(zip(filtered_trace_1_pd['Latitude'], filtered_trace_1_pd['Longitude'])),\n",
    "        color=\"blue\", weight=3, opacity=0.7, tooltip=\"Trace 1\"\n",
    "    ).add_to(m)\n",
    "\n",
    "    # Trace 2\n",
    "    folium.PolyLine(\n",
    "        list(zip(filtered_trace_2_pd['Latitude'], filtered_trace_2_pd['Longitude'])),\n",
    "        color=\"red\", weight=3, opacity=0.7, tooltip=\"Trace 2\"\n",
    "    ).add_to(m)\n",
    "\n",
    "    # Start and end markers\n",
    "    folium.Marker(\n",
    "        [filtered_trace_1_pd.iloc[0]['Latitude'], filtered_trace_1_pd.iloc[0]['Longitude']],\n",
    "        popup=\"Trace 1 Start\", icon=folium.Icon(color='blue')\n",
    "    ).add_to(m)\n",
    "    folium.Marker(\n",
    "        [filtered_trace_1_pd.iloc[-1]['Latitude'], filtered_trace_1_pd.iloc[-1]['Longitude']],\n",
    "        popup=\"Trace 1 End\", icon=folium.Icon(color='blue', icon='flag')\n",
    "    ).add_to(m)\n",
    "    folium.Marker(\n",
    "        [filtered_trace_2_pd.iloc[0]['Latitude'], filtered_trace_2_pd.iloc[0]['Longitude']],\n",
    "        popup=\"Trace 2 Start\", icon=folium.Icon(color='red')\n",
    "    ).add_to(m)\n",
    "    folium.Marker(\n",
    "        [filtered_trace_2_pd.iloc[-1]['Latitude'], filtered_trace_2_pd.iloc[-1]['Longitude']],\n",
    "        popup=\"Trace 2 End\", icon=folium.Icon(color='red', icon='flag')\n",
    "    ).add_to(m)\n",
    "\n",
    "    m\n"
   ]
  }
 ],
 "metadata": {
  "kernelspec": {
   "display_name": "3.10.11",
   "language": "python",
   "name": "python3"
  },
  "language_info": {
   "codemirror_mode": {
    "name": "ipython",
    "version": 3
   },
   "file_extension": ".py",
   "mimetype": "text/x-python",
   "name": "python",
   "nbconvert_exporter": "python",
   "pygments_lexer": "ipython3",
   "version": "3.10.11"
  }
 },
 "nbformat": 4,
 "nbformat_minor": 5
}
